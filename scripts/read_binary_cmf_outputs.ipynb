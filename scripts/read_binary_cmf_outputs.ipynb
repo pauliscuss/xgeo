{
 "cells": [
  {
   "cell_type": "code",
   "execution_count": null,
   "metadata": {
    "collapsed": false
   },
   "outputs": [],
   "source": [
    "import xgeo.io\n",
    "import rasterio\n",
    "import xarray as xr\n",
    "from os.path import join, basename"
   ]
  },
  {
   "cell_type": "code",
   "execution_count": null,
   "metadata": {
    "collapsed": false
   },
   "outputs": [],
   "source": [
    "# read geo coords from params file\n",
    "def _read_params(fn, col_width=12):\n",
    "    rename = {'grid number (north-south)': 'height',\n",
    "              'grid number (east-west)': 'width',\n",
    "              'west  edge [deg]': 'west',\n",
    "              'north edge [deg]': 'north',\n",
    "              'grid size  [deg]': 'res'}\n",
    "    with open(fn, 'r') as txt:\n",
    "        params = {line[col_width:].strip(): float(line[:col_width].strip())\n",
    "                    for line in txt.readlines()}\n",
    "    params = {rename[key]: params[key] for key in params if key in rename.keys()}\n",
    "    transform = rasterio.transform.from_origin(params['west'], params['north'], params['res'], params['res'])\n",
    "    return transform, (int(params['height']), int(params['width']))"
   ]
  },
  {
   "cell_type": "code",
   "execution_count": null,
   "metadata": {
    "collapsed": false
   },
   "outputs": [],
   "source": [
    "ddir = r'd:\\temp\\glofrim\\Amazon\\WFL2CMF\\CMF'\n",
    "transform, (nrow, ncol) = _read_params(join(ddir, 'params.txt'))\n"
   ]
  },
  {
   "cell_type": "code",
   "execution_count": null,
   "metadata": {
    "collapsed": false
   },
   "outputs": [],
   "source": [
    "prefix = ['fldsto', 'flddph', 'outflw', 'rivout']\n",
    "dlist = []\n",
    "for p in prefix:\n",
    "    da = xgeo.io.from_mfbin(ddir, p, nrow, ncol, transform=transform, nodata=1e+20).load()\n",
    "    dlist.append(da)\n",
    "xr.merge(dlist).to_netcdf(join(ddir, 'WFL2CMF_Amazon.nc'), encoding={d.name: {'zlib': True} for d in dlist})"
   ]
  },
  {
   "cell_type": "code",
   "execution_count": null,
   "metadata": {
    "collapsed": false
   },
   "outputs": [],
   "source": [
    "%matplotlib inline\n",
    "import matplotlib.pyplot as plt\n",
    "\n",
    "da.isel(time=0).plot()"
   ]
  }
 ],
 "metadata": {
  "anaconda-cloud": {},
  "kernelspec": {
   "display_name": "Python [conda env:xgeo]",
   "language": "python",
   "name": "conda-env-xgeo-py"
  },
  "language_info": {
   "codemirror_mode": {
    "name": "ipython",
    "version": 3
   },
   "file_extension": ".py",
   "mimetype": "text/x-python",
   "name": "python",
   "nbconvert_exporter": "python",
   "pygments_lexer": "ipython3",
   "version": "3.6.6"
  }
 },
 "nbformat": 4,
 "nbformat_minor": 2
}
