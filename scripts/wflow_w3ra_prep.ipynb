{
 "cells": [
  {
   "cell_type": "code",
   "execution_count": null,
   "metadata": {},
   "outputs": [],
   "source": [
    "from xgeo import regrid, io, utils\n",
    "import xarray as xr\n",
    "import rasterio\n",
    "import pandas as pd\n",
    "from datetime import datetime\n",
    "import numpy as np\n",
    "from os.path import join"
   ]
  },
  {
   "cell_type": "markdown",
   "metadata": {},
   "source": [
    "## get forcing for w3ra model"
   ]
  },
  {
   "cell_type": "code",
   "execution_count": null,
   "metadata": {},
   "outputs": [],
   "source": [
    "start_date = datetime(2000, 1, 1)\n",
    "end_date = datetime(2000, 12, 31)\n",
    "bounds = (7.0, 48.0, 17.0, 55.0)\n",
    "chunks={'lat': 100, 'lon': 100}\n",
    "t_m = pd.date_range(start_date, end_date, freq='MS')\n",
    "t_y = pd.date_range(start_date, end_date, freq='AS')"
   ]
  },
  {
   "cell_type": "code",
   "execution_count": null,
   "metadata": {},
   "outputs": [],
   "source": [
    "modeldir = r'/home/dirk/experiments/model_test_data/test_Elbe/WFL_Elbe/W3RA'\n",
    "like = join(modeldir, r'clone_elbe_30min.map')\n",
    "reproject_kwargs = dict(like=like, resampling='average')"
   ]
  },
  {
   "cell_type": "code",
   "execution_count": null,
   "metadata": {},
   "outputs": [],
   "source": [
    "rootdir = r'/home/dirk/datasets/E2O'\n",
    "precip_fn = join(rootdir, 'mswep', '{year}.nc')\n",
    "tair_fn = join(rootdir, 'met_forcing_v1', 'Tair_daily_EI_025_{year}{month}.nc')\n",
    "psurf_fn = join(rootdir, 'met_forcing_v1', 'PSurf_daily_EI_025_{year}{month}.nc')\n",
    "wind_fn = join(rootdir, 'met_forcing_v1', 'Wind_daily_EI_025_{year}{month}.nc')\n",
    "pet_fn = join(rootdir, 'deltares', 'PeHar_daily_wrr2_0083_{year}.nc')"
   ]
  },
  {
   "cell_type": "code",
   "execution_count": null,
   "metadata": {},
   "outputs": [],
   "source": [
    "tair_fns = [tair_fn.format(year='{:04d}'.format(t.year), month='{:02d}'.format(t.month)) for t in t_m]\n",
    "psurf_fns = [psurf_fn.format(year='{:04d}'.format(t.year), month='{:02d}'.format(t.month)) for t in t_m]\n",
    "wind_fns = [wind_fn.format(year='{:04d}'.format(t.year), month='{:02d}'.format(t.month)) for t in t_m]\n",
    "pet_fns = [pet_fn.format(year='{:04d}'.format(t.year)) for t in t_y]\n",
    "precip_fns = [precip_fn.format(year='{:04d}'.format(t.year)) for t in t_y]"
   ]
  },
  {
   "cell_type": "code",
   "execution_count": null,
   "metadata": {},
   "outputs": [],
   "source": [
    "def process_da(da, start_date, end_date, bounds, reproject_kwargs):\n",
    "    \"\"\"clip, regrid and set crs metadata for forcing datasets\"\"\"\n",
    "    # select / clip\n",
    "    da = da.sel(**{'time': slice(start_date, end_date)})\n",
    "    da = regrid.clip(da, bounds)\n",
    "    # set metadata\n",
    "    da = utils.set_crs(da, crs=rasterio.crs.CRS.from_epsg(4326))\n",
    "    # regrid\n",
    "    da = regrid.reproject_rasterio(da, **reproject_kwargs)\n",
    "    return da"
   ]
  },
  {
   "cell_type": "code",
   "execution_count": null,
   "metadata": {},
   "outputs": [],
   "source": [
    "psurf = xr.open_mfdataset(psurf_fns, chunks=chunks)['PSurf']\n",
    "psurf = process_da(psurf, start_date, end_date, bounds, reproject_kwargs)"
   ]
  },
  {
   "cell_type": "code",
   "execution_count": null,
   "metadata": {},
   "outputs": [],
   "source": [
    "wind = xr.open_mfdataset(wind_fns[:1], chunks=chunks)['Wind']\n",
    "wind = wind.drop('height').squeeze()\n",
    "wind = process_da(wind, start_date, end_date, bounds, reproject_kwargs)"
   ]
  },
  {
   "cell_type": "code",
   "execution_count": null,
   "metadata": {},
   "outputs": [],
   "source": [
    "precip = xr.open_mfdataset(precip_fns, chunks=chunks)['precipitation']\n",
    "precip = process_da(precip, start_date, end_date, bounds, reproject_kwargs)"
   ]
  },
  {
   "cell_type": "code",
   "execution_count": null,
   "metadata": {},
   "outputs": [],
   "source": [
    "pet = xr.open_mfdataset(pet_fns, chunks=chunks)['PET']\n",
    "res=1/12.\n",
    "pet['lat'].data = np.arange(90-res/2., -90, -res)\n",
    "pet['lon'].data = np.arange(-180+res/2., 180, res)\n",
    "pet = process_da(pet, start_date, end_date, bounds, reproject_kwargs)"
   ]
  },
  {
   "cell_type": "code",
   "execution_count": null,
   "metadata": {},
   "outputs": [],
   "source": [
    "tair = xr.open_mfdataset(tair_fns, chunks=chunks)['Tair']\n",
    "tair = tair.drop('height').squeeze()\n",
    "tair = process_da(tair, start_date, end_date, bounds, reproject_kwargs)"
   ]
  },
  {
   "cell_type": "markdown",
   "metadata": {},
   "source": [
    "rename forcing data and save to netcdf"
   ]
  },
  {
   "cell_type": "code",
   "execution_count": null,
   "metadata": {},
   "outputs": [],
   "source": [
    "tair.name = 'TDAY'\n",
    "pet.name = 'EPOT'\n",
    "precip.name = 'PRECIP'\n",
    "wind.name = 'WIND'\n",
    "psurf.name = 'PRESS'\n",
    "ds_out = xr.merge([precip, pet, tair, wind, psurf])\n",
    "ds_out.to_netcdf(join(modeldir, 'inmaps', 'e2o_wrr2_forcing_30min_elbe_2000.nc'))"
   ]
  },
  {
   "cell_type": "markdown",
   "metadata": {},
   "source": [
    "save outputs to PCRaster mapstack"
   ]
  },
  {
   "cell_type": "code",
   "execution_count": null,
   "metadata": {},
   "outputs": [],
   "source": [
    "# io.to_mapstack(tair, out_dir=join(modeldir, 'inmaps'), driver='PCRaster')\n",
    "# io.to_mapstack(precip.astype('float32'), out_dir=join(modeldir, 'inmaps'), driver='PCRaster')\n",
    "# io.to_mapstack(pet, out_dir=join(modeldir, 'inmaps'), driver='PCRaster')\n",
    "# io.to_mapstack(tair, out_dir=join(modeldir, 'inmaps'), driver='PCRaster')\n",
    "# io.to_mapstack(wind, out_dir=join(modeldir, 'inmaps'), driver='PCRaster')\n",
    "# io.to_mapstack(psurf, out_dir=join(modeldir, 'inmaps'), driver='PCRaster')"
   ]
  },
  {
   "cell_type": "markdown",
   "metadata": {},
   "source": [
    "## clip static maps and state maps from global to local models"
   ]
  },
  {
   "cell_type": "code",
   "execution_count": null,
   "metadata": {},
   "outputs": [],
   "source": [
    "import rasterio \n",
    "from rasterio.windows import Window\n",
    "import numpy as np\n",
    "import os \n",
    "from os.path import join, basename, dirname\n",
    "import glob\n",
    "modeldir_glob = r'/home/dirk/experiments/wflow_cases/w3ra/openstreams_w3ra'\n",
    "pcr_vs = {'u': 'VS_BOOLEAN', 'b': 'VS_BOOLEAN', 'f': 'VS_SCALAR', 'i': 'VS_NOMINAL'}\n",
    "folder = 'staticmaps' #'instate'\n",
    "\n",
    "with rasterio.open(like) as template_ds:\n",
    "    bounds = template_ds.bounds\n",
    "\n",
    "for fn in glob.glob(join(modeldir_glob, 'staticmaps', '*.map')):\n",
    "    out_fn = join(modeldir, 'staticmaps', basename(fn)) \n",
    "    if os.path.isfile(out_fn):\n",
    "        continue\n",
    "    print(out_fn)\n",
    "    with rasterio.open(fn, driver='PCRaster') as src:\n",
    "        bounds_window = src.window(*bounds)\n",
    "        bounds_window = bounds_window.intersection(\n",
    "            Window(0, 0, src.width, src.height))\n",
    "        out_window = bounds_window.round_lengths(op='ceil')\n",
    "        height = int(out_window.height)\n",
    "        width = int(out_window.width)\n",
    "        \n",
    "        out_kwargs = src.profile\n",
    "        out_kwargs.update({\n",
    "            'height': height,\n",
    "            'width': width,\n",
    "            'transform': src.window_transform(out_window)})\n",
    "        out_kwargs.update(PCRASTER_VALUESCALE=pcr_vs.get(np.dtype(src.dtypes[0]).kind))\n",
    "    \n",
    "        with rasterio.open(out_fn, 'w', **out_kwargs) as out:\n",
    "            out.write(src.read(window=out_window,\n",
    "                               out_shape=(src.count, height, width)))"
   ]
  },
  {
   "cell_type": "code",
   "execution_count": null,
   "metadata": {},
   "outputs": [],
   "source": [
    "# modeldir = r'/home/dirk/experiments/wflow_cases/w3ra/openstreams_w3ra'\n",
    "# set lower case for all maps (required on linux!)\n",
    "import os \n",
    "from os.path import join, basename, dirname\n",
    "import glob\n",
    "for fn in glob.glob(join(modeldir, 'staticmaps', '*.map')):\n",
    "    os.rename(fn, join(dirname(fn), basename(fn).lower()))"
   ]
  },
  {
   "cell_type": "code",
   "execution_count": null,
   "metadata": {},
   "outputs": [],
   "source": [
    "# modeldir = r'/home/dirk/experiments/wflow_cases/w3ra/openstreams_w3ra'\n",
    "import os \n",
    "import shutil\n",
    "from os.path import join, basename, dirname\n",
    "import glob\n",
    "for fn in glob.glob(join(modeldir, 'instate', '*.map')):\n",
    "    shutil.copy(fn, join(dirname(fn), basename(fn).lower())) #.replace('.map', '_0.map')))"
   ]
  }
 ],
 "metadata": {
  "kernelspec": {
   "display_name": "Python [default]",
   "language": "python",
   "name": "python3"
  },
  "language_info": {
   "codemirror_mode": {
    "name": "ipython",
    "version": 3
   },
   "file_extension": ".py",
   "mimetype": "text/x-python",
   "name": "python",
   "nbconvert_exporter": "python",
   "pygments_lexer": "ipython3",
   "version": "3.6.6"
  }
 },
 "nbformat": 4,
 "nbformat_minor": 2
}
